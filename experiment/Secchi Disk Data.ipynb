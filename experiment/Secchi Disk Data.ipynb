{
 "cells": [
  {
   "cell_type": "code",
   "execution_count": 9,
   "metadata": {},
   "outputs": [],
   "source": [
    "import numpy as np\n",
    "import scipy as sp\n",
    "import pandas as pd\n",
    "import xlrd\n",
    "import matplotlib.pyplot as plt"
   ]
  },
  {
   "cell_type": "code",
   "execution_count": 10,
   "metadata": {},
   "outputs": [
    {
     "data": {
      "text/html": [
       "<div>\n",
       "<style scoped>\n",
       "    .dataframe tbody tr th:only-of-type {\n",
       "        vertical-align: middle;\n",
       "    }\n",
       "\n",
       "    .dataframe tbody tr th {\n",
       "        vertical-align: top;\n",
       "    }\n",
       "\n",
       "    .dataframe thead th {\n",
       "        text-align: right;\n",
       "    }\n",
       "</style>\n",
       "<table border=\"1\" class=\"dataframe\">\n",
       "  <thead>\n",
       "    <tr style=\"text-align: right;\">\n",
       "      <th></th>\n",
       "      <th>Date</th>\n",
       "      <th>Time</th>\n",
       "      <th>Location</th>\n",
       "      <th>Secchi depth (ft.in)</th>\n",
       "      <th>Secchi Depth (ft)</th>\n",
       "      <th>Turbidity (NTU)</th>\n",
       "      <th>wind</th>\n",
       "      <th>sun</th>\n",
       "      <th>chop</th>\n",
       "      <th>approximate temp (F)</th>\n",
       "      <th>observer</th>\n",
       "      <th>Secchi Depth (in)</th>\n",
       "    </tr>\n",
       "  </thead>\n",
       "  <tbody>\n",
       "    <tr>\n",
       "      <th>0</th>\n",
       "      <td>2017-05-29</td>\n",
       "      <td>12:15:00</td>\n",
       "      <td>Ss1</td>\n",
       "      <td>6.1</td>\n",
       "      <td>6.083333</td>\n",
       "      <td>NaN</td>\n",
       "      <td>Moderate breeze</td>\n",
       "      <td>bright</td>\n",
       "      <td>choppy</td>\n",
       "      <td>65.0</td>\n",
       "      <td>NaN</td>\n",
       "      <td>73.0</td>\n",
       "    </tr>\n",
       "    <tr>\n",
       "      <th>1</th>\n",
       "      <td>2017-05-29</td>\n",
       "      <td>12:15:00</td>\n",
       "      <td>Ss1</td>\n",
       "      <td>7.2</td>\n",
       "      <td>7.166667</td>\n",
       "      <td>NaN</td>\n",
       "      <td>Moderate breeze</td>\n",
       "      <td>bright</td>\n",
       "      <td>choppy</td>\n",
       "      <td>65.0</td>\n",
       "      <td>NaN</td>\n",
       "      <td>86.0</td>\n",
       "    </tr>\n",
       "    <tr>\n",
       "      <th>2</th>\n",
       "      <td>2017-05-29</td>\n",
       "      <td>12:15:00</td>\n",
       "      <td>Ss1</td>\n",
       "      <td>6.6</td>\n",
       "      <td>6.500000</td>\n",
       "      <td>NaN</td>\n",
       "      <td>Moderate breeze</td>\n",
       "      <td>bright</td>\n",
       "      <td>choppy</td>\n",
       "      <td>65.0</td>\n",
       "      <td>NaN</td>\n",
       "      <td>78.0</td>\n",
       "    </tr>\n",
       "    <tr>\n",
       "      <th>3</th>\n",
       "      <td>2017-05-29</td>\n",
       "      <td>12:15:00</td>\n",
       "      <td>Ss1</td>\n",
       "      <td>6.6</td>\n",
       "      <td>6.500000</td>\n",
       "      <td>NaN</td>\n",
       "      <td>Moderate breeze</td>\n",
       "      <td>bright</td>\n",
       "      <td>choppy</td>\n",
       "      <td>65.0</td>\n",
       "      <td>NaN</td>\n",
       "      <td>78.0</td>\n",
       "    </tr>\n",
       "    <tr>\n",
       "      <th>4</th>\n",
       "      <td>2017-05-29</td>\n",
       "      <td>12:50:00</td>\n",
       "      <td>Ss2</td>\n",
       "      <td>6.1</td>\n",
       "      <td>6.083333</td>\n",
       "      <td>NaN</td>\n",
       "      <td>Moderate breeze</td>\n",
       "      <td>bright</td>\n",
       "      <td>choppy</td>\n",
       "      <td>65.0</td>\n",
       "      <td>NaN</td>\n",
       "      <td>73.0</td>\n",
       "    </tr>\n",
       "  </tbody>\n",
       "</table>\n",
       "</div>"
      ],
      "text/plain": [
       "        Date      Time Location  Secchi depth (ft.in)  Secchi Depth (ft)  \\\n",
       "0 2017-05-29  12:15:00      Ss1                   6.1           6.083333   \n",
       "1 2017-05-29  12:15:00      Ss1                   7.2           7.166667   \n",
       "2 2017-05-29  12:15:00      Ss1                   6.6           6.500000   \n",
       "3 2017-05-29  12:15:00      Ss1                   6.6           6.500000   \n",
       "4 2017-05-29  12:50:00      Ss2                   6.1           6.083333   \n",
       "\n",
       "   Turbidity (NTU)             wind     sun    chop  approximate temp (F)  \\\n",
       "0              NaN  Moderate breeze  bright  choppy                  65.0   \n",
       "1              NaN  Moderate breeze  bright  choppy                  65.0   \n",
       "2              NaN  Moderate breeze  bright  choppy                  65.0   \n",
       "3              NaN  Moderate breeze  bright  choppy                  65.0   \n",
       "4              NaN  Moderate breeze  bright  choppy                  65.0   \n",
       "\n",
       "  observer  Secchi Depth (in)  \n",
       "0      NaN               73.0  \n",
       "1      NaN               86.0  \n",
       "2      NaN               78.0  \n",
       "3      NaN               78.0  \n",
       "4      NaN               73.0  "
      ]
     },
     "execution_count": 10,
     "metadata": {},
     "output_type": "execute_result"
    }
   ],
   "source": [
    "df = pd.read_excel('data.xlsx')\n",
    "df.head()"
   ]
  },
  {
   "cell_type": "code",
   "execution_count": 11,
   "metadata": {},
   "outputs": [
    {
     "data": {
      "image/png": "[encoded data removed]",
      "text/plain": [
       "<matplotlib.figure.Figure at 0x7fd0436f8150>"
      ]
     },
     "metadata": {},
     "output_type": "display_data"
    }
   ],
   "source": [
    "turb = df['Turbidity (NTU)']\n",
    "x = range(len(turb))\n",
    "plt.scatter(x, turb)\n",
    "plt.show()"
   ]
  },
  {
   "cell_type": "code",
   "execution_count": 12,
   "metadata": {},
   "outputs": [],
   "source": [
    "# drop columns that are not useful\n",
    "# eg observer\n",
    "df = df.drop('observer', axis=1)\n"
   ]
  },
  {
   "cell_type": "code",
   "execution_count": 14,
   "metadata": {},
   "outputs": [
    {
     "name": "stdout",
     "output_type": "stream",
     "text": [
      "set([u'ss1', u'ss2', u'Ss1', u'ssc', u'Ss2'])\n"
     ]
    }
   ],
   "source": [
    "print set(df['Location'])"
   ]
  },
  {
   "cell_type": "code",
   "execution_count": 17,
   "metadata": {},
   "outputs": [
    {
     "data": {
      "text/html": [
       "<div>\n",
       "<style scoped>\n",
       "    .dataframe tbody tr th:only-of-type {\n",
       "        vertical-align: middle;\n",
       "    }\n",
       "\n",
       "    .dataframe tbody tr th {\n",
       "        vertical-align: top;\n",
       "    }\n",
       "\n",
       "    .dataframe thead th {\n",
       "        text-align: right;\n",
       "    }\n",
       "</style>\n",
       "<table border=\"1\" class=\"dataframe\">\n",
       "  <thead>\n",
       "    <tr style=\"text-align: right;\">\n",
       "      <th></th>\n",
       "      <th>Date</th>\n",
       "      <th>Time</th>\n",
       "      <th>Secchi depth (ft.in)</th>\n",
       "      <th>Secchi Depth (ft)</th>\n",
       "      <th>Turbidity (NTU)</th>\n",
       "      <th>approximate temp (F)</th>\n",
       "      <th>Secchi Depth (in)</th>\n",
       "      <th>Location_Ss1</th>\n",
       "      <th>Location_Ss2</th>\n",
       "      <th>Location_ss1</th>\n",
       "      <th>...</th>\n",
       "      <th>sun_bright</th>\n",
       "      <th>sun_bright</th>\n",
       "      <th>sun_cloudy</th>\n",
       "      <th>sun_partly cloudy</th>\n",
       "      <th>sun_raining</th>\n",
       "      <th>sun_sunny</th>\n",
       "      <th>chop_calm</th>\n",
       "      <th>chop_choppy</th>\n",
       "      <th>chop_mild</th>\n",
       "      <th>chop_slight</th>\n",
       "    </tr>\n",
       "  </thead>\n",
       "  <tbody>\n",
       "    <tr>\n",
       "      <th>0</th>\n",
       "      <td>2017-05-29</td>\n",
       "      <td>12:15:00</td>\n",
       "      <td>6.1</td>\n",
       "      <td>6.083333</td>\n",
       "      <td>NaN</td>\n",
       "      <td>65.0</td>\n",
       "      <td>73.0</td>\n",
       "      <td>1</td>\n",
       "      <td>0</td>\n",
       "      <td>0</td>\n",
       "      <td>...</td>\n",
       "      <td>1</td>\n",
       "      <td>0</td>\n",
       "      <td>0</td>\n",
       "      <td>0</td>\n",
       "      <td>0</td>\n",
       "      <td>0</td>\n",
       "      <td>0</td>\n",
       "      <td>1</td>\n",
       "      <td>0</td>\n",
       "      <td>0</td>\n",
       "    </tr>\n",
       "    <tr>\n",
       "      <th>1</th>\n",
       "      <td>2017-05-29</td>\n",
       "      <td>12:15:00</td>\n",
       "      <td>7.2</td>\n",
       "      <td>7.166667</td>\n",
       "      <td>NaN</td>\n",
       "      <td>65.0</td>\n",
       "      <td>86.0</td>\n",
       "      <td>1</td>\n",
       "      <td>0</td>\n",
       "      <td>0</td>\n",
       "      <td>...</td>\n",
       "      <td>1</td>\n",
       "      <td>0</td>\n",
       "      <td>0</td>\n",
       "      <td>0</td>\n",
       "      <td>0</td>\n",
       "      <td>0</td>\n",
       "      <td>0</td>\n",
       "      <td>1</td>\n",
       "      <td>0</td>\n",
       "      <td>0</td>\n",
       "    </tr>\n",
       "    <tr>\n",
       "      <th>2</th>\n",
       "      <td>2017-05-29</td>\n",
       "      <td>12:15:00</td>\n",
       "      <td>6.6</td>\n",
       "      <td>6.500000</td>\n",
       "      <td>NaN</td>\n",
       "      <td>65.0</td>\n",
       "      <td>78.0</td>\n",
       "      <td>1</td>\n",
       "      <td>0</td>\n",
       "      <td>0</td>\n",
       "      <td>...</td>\n",
       "      <td>1</td>\n",
       "      <td>0</td>\n",
       "      <td>0</td>\n",
       "      <td>0</td>\n",
       "      <td>0</td>\n",
       "      <td>0</td>\n",
       "      <td>0</td>\n",
       "      <td>1</td>\n",
       "      <td>0</td>\n",
       "      <td>0</td>\n",
       "    </tr>\n",
       "    <tr>\n",
       "      <th>3</th>\n",
       "      <td>2017-05-29</td>\n",
       "      <td>12:15:00</td>\n",
       "      <td>6.6</td>\n",
       "      <td>6.500000</td>\n",
       "      <td>NaN</td>\n",
       "      <td>65.0</td>\n",
       "      <td>78.0</td>\n",
       "      <td>1</td>\n",
       "      <td>0</td>\n",
       "      <td>0</td>\n",
       "      <td>...</td>\n",
       "      <td>1</td>\n",
       "      <td>0</td>\n",
       "      <td>0</td>\n",
       "      <td>0</td>\n",
       "      <td>0</td>\n",
       "      <td>0</td>\n",
       "      <td>0</td>\n",
       "      <td>1</td>\n",
       "      <td>0</td>\n",
       "      <td>0</td>\n",
       "    </tr>\n",
       "    <tr>\n",
       "      <th>4</th>\n",
       "      <td>2017-05-29</td>\n",
       "      <td>12:50:00</td>\n",
       "      <td>6.1</td>\n",
       "      <td>6.083333</td>\n",
       "      <td>NaN</td>\n",
       "      <td>65.0</td>\n",
       "      <td>73.0</td>\n",
       "      <td>0</td>\n",
       "      <td>1</td>\n",
       "      <td>0</td>\n",
       "      <td>...</td>\n",
       "      <td>1</td>\n",
       "      <td>0</td>\n",
       "      <td>0</td>\n",
       "      <td>0</td>\n",
       "      <td>0</td>\n",
       "      <td>0</td>\n",
       "      <td>0</td>\n",
       "      <td>1</td>\n",
       "      <td>0</td>\n",
       "      <td>0</td>\n",
       "    </tr>\n",
       "  </tbody>\n",
       "</table>\n",
       "<p>5 rows × 32 columns</p>\n",
       "</div>"
      ],
      "text/plain": [
       "        Date      Time  Secchi depth (ft.in)  Secchi Depth (ft)  \\\n",
       "0 2017-05-29  12:15:00                   6.1           6.083333   \n",
       "1 2017-05-29  12:15:00                   7.2           7.166667   \n",
       "2 2017-05-29  12:15:00                   6.6           6.500000   \n",
       "3 2017-05-29  12:15:00                   6.6           6.500000   \n",
       "4 2017-05-29  12:50:00                   6.1           6.083333   \n",
       "\n",
       "   Turbidity (NTU)  approximate temp (F)  Secchi Depth (in)  Location_Ss1  \\\n",
       "0              NaN                  65.0               73.0             1   \n",
       "1              NaN                  65.0               86.0             1   \n",
       "2              NaN                  65.0               78.0             1   \n",
       "3              NaN                  65.0               78.0             1   \n",
       "4              NaN                  65.0               73.0             0   \n",
       "\n",
       "   Location_Ss2  Location_ss1     ...       sun_bright  sun_bright   \\\n",
       "0             0             0     ...                1            0   \n",
       "1             0             0     ...                1            0   \n",
       "2             0             0     ...                1            0   \n",
       "3             0             0     ...                1            0   \n",
       "4             1             0     ...                1            0   \n",
       "\n",
       "   sun_cloudy  sun_partly cloudy  sun_raining  sun_sunny  chop_calm  \\\n",
       "0           0                  0            0          0          0   \n",
       "1           0                  0            0          0          0   \n",
       "2           0                  0            0          0          0   \n",
       "3           0                  0            0          0          0   \n",
       "4           0                  0            0          0          0   \n",
       "\n",
       "   chop_choppy  chop_mild  chop_slight  \n",
       "0            1          0            0  \n",
       "1            1          0            0  \n",
       "2            1          0            0  \n",
       "3            1          0            0  \n",
       "4            1          0            0  \n",
       "\n",
       "[5 rows x 32 columns]"
      ]
     },
     "execution_count": 17,
     "metadata": {},
     "output_type": "execute_result"
    }
   ],
   "source": [
    "# convert catacorical clumns to numerical catagories\n",
    "# location, wind, chop, \n",
    "# assumes Ss1 ans SS1 are different locations\n",
    "\n",
    "new_df = pd.get_dummies(df, columns = ['Location', 'wind', 'sun', 'chop'])\n",
    "new_df.head()"
   ]
  },
  {
   "cell_type": "code",
   "execution_count": 31,
   "metadata": {},
   "outputs": [],
   "source": [
    "# clean turbidity value NaN\n",
    "# use 0 instead of NaN to allow clusterinng\n",
    "new_df = new_df.fillna(0)"
   ]
  },
  {
   "cell_type": "code",
   "execution_count": 32,
   "metadata": {},
   "outputs": [
    {
     "data": {
      "text/html": [
       "<div>\n",
       "<style scoped>\n",
       "    .dataframe tbody tr th:only-of-type {\n",
       "        vertical-align: middle;\n",
       "    }\n",
       "\n",
       "    .dataframe tbody tr th {\n",
       "        vertical-align: top;\n",
       "    }\n",
       "\n",
       "    .dataframe thead th {\n",
       "        text-align: right;\n",
       "    }\n",
       "</style>\n",
       "<table border=\"1\" class=\"dataframe\">\n",
       "  <thead>\n",
       "    <tr style=\"text-align: right;\">\n",
       "      <th></th>\n",
       "      <th>Secchi depth (ft.in)</th>\n",
       "      <th>Secchi Depth (ft)</th>\n",
       "      <th>Turbidity (NTU)</th>\n",
       "      <th>approximate temp (F)</th>\n",
       "      <th>Secchi Depth (in)</th>\n",
       "      <th>Location_Ss1</th>\n",
       "      <th>Location_Ss2</th>\n",
       "      <th>Location_ss1</th>\n",
       "      <th>Location_ss2</th>\n",
       "      <th>Location_ssc</th>\n",
       "      <th>...</th>\n",
       "      <th>sun_bright</th>\n",
       "      <th>sun_bright</th>\n",
       "      <th>sun_cloudy</th>\n",
       "      <th>sun_partly cloudy</th>\n",
       "      <th>sun_raining</th>\n",
       "      <th>sun_sunny</th>\n",
       "      <th>chop_calm</th>\n",
       "      <th>chop_choppy</th>\n",
       "      <th>chop_mild</th>\n",
       "      <th>chop_slight</th>\n",
       "    </tr>\n",
       "  </thead>\n",
       "  <tbody>\n",
       "    <tr>\n",
       "      <th>0</th>\n",
       "      <td>6.1</td>\n",
       "      <td>6.083333</td>\n",
       "      <td>0.0</td>\n",
       "      <td>65.0</td>\n",
       "      <td>73.0</td>\n",
       "      <td>1</td>\n",
       "      <td>0</td>\n",
       "      <td>0</td>\n",
       "      <td>0</td>\n",
       "      <td>0</td>\n",
       "      <td>...</td>\n",
       "      <td>1</td>\n",
       "      <td>0</td>\n",
       "      <td>0</td>\n",
       "      <td>0</td>\n",
       "      <td>0</td>\n",
       "      <td>0</td>\n",
       "      <td>0</td>\n",
       "      <td>1</td>\n",
       "      <td>0</td>\n",
       "      <td>0</td>\n",
       "    </tr>\n",
       "    <tr>\n",
       "      <th>1</th>\n",
       "      <td>7.2</td>\n",
       "      <td>7.166667</td>\n",
       "      <td>0.0</td>\n",
       "      <td>65.0</td>\n",
       "      <td>86.0</td>\n",
       "      <td>1</td>\n",
       "      <td>0</td>\n",
       "      <td>0</td>\n",
       "      <td>0</td>\n",
       "      <td>0</td>\n",
       "      <td>...</td>\n",
       "      <td>1</td>\n",
       "      <td>0</td>\n",
       "      <td>0</td>\n",
       "      <td>0</td>\n",
       "      <td>0</td>\n",
       "      <td>0</td>\n",
       "      <td>0</td>\n",
       "      <td>1</td>\n",
       "      <td>0</td>\n",
       "      <td>0</td>\n",
       "    </tr>\n",
       "    <tr>\n",
       "      <th>2</th>\n",
       "      <td>6.6</td>\n",
       "      <td>6.500000</td>\n",
       "      <td>0.0</td>\n",
       "      <td>65.0</td>\n",
       "      <td>78.0</td>\n",
       "      <td>1</td>\n",
       "      <td>0</td>\n",
       "      <td>0</td>\n",
       "      <td>0</td>\n",
       "      <td>0</td>\n",
       "      <td>...</td>\n",
       "      <td>1</td>\n",
       "      <td>0</td>\n",
       "      <td>0</td>\n",
       "      <td>0</td>\n",
       "      <td>0</td>\n",
       "      <td>0</td>\n",
       "      <td>0</td>\n",
       "      <td>1</td>\n",
       "      <td>0</td>\n",
       "      <td>0</td>\n",
       "    </tr>\n",
       "    <tr>\n",
       "      <th>3</th>\n",
       "      <td>6.6</td>\n",
       "      <td>6.500000</td>\n",
       "      <td>0.0</td>\n",
       "      <td>65.0</td>\n",
       "      <td>78.0</td>\n",
       "      <td>1</td>\n",
       "      <td>0</td>\n",
       "      <td>0</td>\n",
       "      <td>0</td>\n",
       "      <td>0</td>\n",
       "      <td>...</td>\n",
       "      <td>1</td>\n",
       "      <td>0</td>\n",
       "      <td>0</td>\n",
       "      <td>0</td>\n",
       "      <td>0</td>\n",
       "      <td>0</td>\n",
       "      <td>0</td>\n",
       "      <td>1</td>\n",
       "      <td>0</td>\n",
       "      <td>0</td>\n",
       "    </tr>\n",
       "    <tr>\n",
       "      <th>4</th>\n",
       "      <td>6.1</td>\n",
       "      <td>6.083333</td>\n",
       "      <td>0.0</td>\n",
       "      <td>65.0</td>\n",
       "      <td>73.0</td>\n",
       "      <td>0</td>\n",
       "      <td>1</td>\n",
       "      <td>0</td>\n",
       "      <td>0</td>\n",
       "      <td>0</td>\n",
       "      <td>...</td>\n",
       "      <td>1</td>\n",
       "      <td>0</td>\n",
       "      <td>0</td>\n",
       "      <td>0</td>\n",
       "      <td>0</td>\n",
       "      <td>0</td>\n",
       "      <td>0</td>\n",
       "      <td>1</td>\n",
       "      <td>0</td>\n",
       "      <td>0</td>\n",
       "    </tr>\n",
       "  </tbody>\n",
       "</table>\n",
       "<p>5 rows × 30 columns</p>\n",
       "</div>"
      ],
      "text/plain": [
       "   Secchi depth (ft.in)  Secchi Depth (ft)  Turbidity (NTU)  \\\n",
       "0                   6.1           6.083333              0.0   \n",
       "1                   7.2           7.166667              0.0   \n",
       "2                   6.6           6.500000              0.0   \n",
       "3                   6.6           6.500000              0.0   \n",
       "4                   6.1           6.083333              0.0   \n",
       "\n",
       "   approximate temp (F)  Secchi Depth (in)  Location_Ss1  Location_Ss2  \\\n",
       "0                  65.0               73.0             1             0   \n",
       "1                  65.0               86.0             1             0   \n",
       "2                  65.0               78.0             1             0   \n",
       "3                  65.0               78.0             1             0   \n",
       "4                  65.0               73.0             0             1   \n",
       "\n",
       "   Location_ss1  Location_ss2  Location_ssc     ...       sun_bright  \\\n",
       "0             0             0             0     ...                1   \n",
       "1             0             0             0     ...                1   \n",
       "2             0             0             0     ...                1   \n",
       "3             0             0             0     ...                1   \n",
       "4             0             0             0     ...                1   \n",
       "\n",
       "   sun_bright   sun_cloudy  sun_partly cloudy  sun_raining  sun_sunny  \\\n",
       "0            0           0                  0            0          0   \n",
       "1            0           0                  0            0          0   \n",
       "2            0           0                  0            0          0   \n",
       "3            0           0                  0            0          0   \n",
       "4            0           0                  0            0          0   \n",
       "\n",
       "   chop_calm  chop_choppy  chop_mild  chop_slight  \n",
       "0          0            1          0            0  \n",
       "1          0            1          0            0  \n",
       "2          0            1          0            0  \n",
       "3          0            1          0            0  \n",
       "4          0            1          0            0  \n",
       "\n",
       "[5 rows x 30 columns]"
      ]
     },
     "execution_count": 32,
     "metadata": {},
     "output_type": "execute_result"
    }
   ],
   "source": [
    "# group by location and plot together\n",
    "# cluster based on all other values\n",
    "# plot the turbidity\n",
    "#print new_df['Turbidity (NTU)']\n",
    "\n",
    "drop_date_time_df = new_df.drop(['Date', 'Time'], axis=1)\n",
    "drop_date_time_df.head()"
   ]
  },
  {
   "cell_type": "code",
   "execution_count": 33,
   "metadata": {},
   "outputs": [],
   "source": [
    "from sklearn.cluster import KMeans\n",
    "from sklearn.cluster import DBSCAN\n",
    "from sklearn.cluster import AgglomerativeClustering"
   ]
  },
  {
   "cell_type": "code",
   "execution_count": 34,
   "metadata": {},
   "outputs": [],
   "source": [
    "# cant use turbidity for clustering as it is our parameter of  interest\n",
    "cluster_df  = drop_date_time_df.drop(['Turbidity (NTU)'], axis=1)\n",
    "X = cluster_df.as_matrix()"
   ]
  },
  {
   "cell_type": "code",
   "execution_count": 39,
   "metadata": {},
   "outputs": [],
   "source": [
    "def plot_clusters(labels, x, param):\n",
    "\n",
    "    unique_labels = set(labels)\n",
    "    colors = [plt.cm.Spectral(each)\n",
    "              for each in np.linspace(0, 1, len(unique_labels))]\n",
    "\n",
    "    print len(colors)\n",
    "    print len(X)\n",
    "\n",
    "    cols = []\n",
    "    for i in range(len(X)):\n",
    "        cols.append(colors[labels[i]])\n",
    "        \n",
    "    plt.scatter(x,param, c = cols)\n",
    "    plt.show()"
   ]
  },
  {
   "cell_type": "markdown",
   "metadata": {},
   "source": [
    "### Trying Kmeans clustering with various n_clusters values"
   ]
  },
  {
   "cell_type": "code",
   "execution_count": 46,
   "metadata": {},
   "outputs": [
    {
     "name": "stdout",
     "output_type": "stream",
     "text": [
      "2\n",
      "2\n",
      "150\n"
     ]
    },
    {
     "data": {
      "image/png": "[encoded data removed]",
      "text/plain": [
       "<matplotlib.figure.Figure at 0x7fd0459f1ed0>"
      ]
     },
     "metadata": {},
     "output_type": "display_data"
    }
   ],
   "source": [
    "km = KMeans(n_clusters = 2)\n",
    "labels = km.fit_predict(X)\n",
    "print len(set(labels))\n",
    "turb = drop_date_time_df['Turbidity (NTU)']\n",
    "plot_clusters(labels, X[:,1], turb)"
   ]
  },
  {
   "cell_type": "code",
   "execution_count": 47,
   "metadata": {},
   "outputs": [
    {
     "name": "stdout",
     "output_type": "stream",
     "text": [
      "3\n",
      "3\n",
      "150\n"
     ]
    },
    {
     "data": {
      "image/png": "[encoded data removed]",
      "text/plain": [
       "<matplotlib.figure.Figure at 0x7fd035b6d050>"
      ]
     },
     "metadata": {},
     "output_type": "display_data"
    }
   ],
   "source": [
    "km = KMeans(n_clusters = 3)\n",
    "labels = km.fit_predict(X)\n",
    "print len(set(labels))\n",
    "turb = drop_date_time_df['Turbidity (NTU)']\n",
    "plot_clusters(labels, X[:,1], turb) # plottiing x-axis = depth, y-axis=turbidity, color = cluster"
   ]
  },
  {
   "cell_type": "code",
   "execution_count": 49,
   "metadata": {},
   "outputs": [
    {
     "name": "stdout",
     "output_type": "stream",
     "text": [
      "4\n",
      "4\n",
      "150\n"
     ]
    },
    {
     "data": {
      "image/png": "[encoded data removed]",
      "text/plain": [
       "<matplotlib.figure.Figure at 0x7fd035a910d0>"
      ]
     },
     "metadata": {},
     "output_type": "display_data"
    }
   ],
   "source": [
    "km = KMeans(n_clusters = 4)\n",
    "labels = km.fit_predict(X)\n",
    "print len(set(labels))\n",
    "turb = drop_date_time_df['Turbidity (NTU)']\n",
    "plot_clusters(labels, X[:,1], turb) # plottiing x-axis = depth, y-axis=turbidity, color = cluster"
   ]
  },
  {
   "cell_type": "code",
   "execution_count": 50,
   "metadata": {},
   "outputs": [
    {
     "name": "stdout",
     "output_type": "stream",
     "text": [
      "6\n",
      "6\n",
      "150\n"
     ]
    },
    {
     "data": {
      "image/png": "[encoded data removed]",
      "text/plain": [
       "<matplotlib.figure.Figure at 0x7fd03599f0d0>"
      ]
     },
     "metadata": {},
     "output_type": "display_data"
    }
   ],
   "source": [
    "km = KMeans(n_clusters = 6)\n",
    "labels = km.fit_predict(X)\n",
    "print len(set(labels))\n",
    "turb = drop_date_time_df['Turbidity (NTU)']\n",
    "plot_clusters(labels, X[:,1], turb) # plottiing x-axis = depth, y-axis=turbidity, color = cluster"
   ]
  },
  {
   "cell_type": "markdown",
   "metadata": {},
   "source": [
    "### Trying DBSCAN clustering using various values of eps and min_samples, using hamming distance"
   ]
  },
  {
   "cell_type": "code",
   "execution_count": 66,
   "metadata": {},
   "outputs": [
    {
     "name": "stdout",
     "output_type": "stream",
     "text": [
      "4\n",
      "150\n"
     ]
    },
    {
     "data": {
      "image/png": "[encoded data removed]",
      "text/plain": [
       "<matplotlib.figure.Figure at 0x7fd0359dffd0>"
      ]
     },
     "metadata": {},
     "output_type": "display_data"
    }
   ],
   "source": [
    "dbscan = DBSCAN(eps = 0.1, min_samples=5, metric='hamming')\n",
    "labels = dbscan.fit_predict(X)\n",
    "turb = drop_date_time_df['Turbidity (NTU)']\n",
    "plot_clusters(labels, X[:,1], turb)"
   ]
  },
  {
   "cell_type": "code",
   "execution_count": 67,
   "metadata": {},
   "outputs": [
    {
     "name": "stdout",
     "output_type": "stream",
     "text": [
      "2\n",
      "150\n"
     ]
    },
    {
     "data": {
      "image/png": "[encoded data removed]",
      "text/plain": [
       "<matplotlib.figure.Figure at 0x7fd035ab2210>"
      ]
     },
     "metadata": {},
     "output_type": "display_data"
    }
   ],
   "source": [
    "dbscan = DBSCAN(eps = 0.1, min_samples=7, metric='hamming')\n",
    "labels = dbscan.fit_predict(X)\n",
    "turb = drop_date_time_df['Turbidity (NTU)']\n",
    "plot_clusters(labels, X[:,1], turb)"
   ]
  },
  {
   "cell_type": "code",
   "execution_count": 68,
   "metadata": {},
   "outputs": [
    {
     "name": "stdout",
     "output_type": "stream",
     "text": [
      "2\n",
      "150\n"
     ]
    },
    {
     "data": {
      "image/png": "[encoded data removed]",
      "text/plain": [
       "<matplotlib.figure.Figure at 0x7fd0358f7c50>"
      ]
     },
     "metadata": {},
     "output_type": "display_data"
    }
   ],
   "source": [
    "dbscan = DBSCAN(eps = 0.1, min_samples=10, metric='hamming')\n",
    "labels = dbscan.fit_predict(X)\n",
    "turb = drop_date_time_df['Turbidity (NTU)']\n",
    "plot_clusters(labels, X[:,1], turb)"
   ]
  },
  {
   "cell_type": "code",
   "execution_count": 70,
   "metadata": {},
   "outputs": [
    {
     "name": "stdout",
     "output_type": "stream",
     "text": [
      "4\n",
      "150\n"
     ]
    },
    {
     "data": {
      "image/png": "[encoded data removed]",
      "text/plain": [
       "<matplotlib.figure.Figure at 0x7fd035a5b190>"
      ]
     },
     "metadata": {},
     "output_type": "display_data"
    }
   ],
   "source": [
    "dbscan = DBSCAN(eps = 0.2, min_samples=5, metric='hamming')\n",
    "labels = dbscan.fit_predict(X)\n",
    "turb = drop_date_time_df['Turbidity (NTU)']\n",
    "plot_clusters(labels, X[:,1], turb)"
   ]
  },
  {
   "cell_type": "code",
   "execution_count": null,
   "metadata": {},
   "outputs": [],
   "source": []
  }
 ],
 "metadata": {
  "kernelspec": {
   "display_name": "Python 2",
   "language": "python",
   "name": "python2"
  },
  "language_info": {
   "codemirror_mode": {
    "name": "ipython",
    "version": 2
   },
   "file_extension": ".py",
   "mimetype": "text/x-python",
   "name": "python",
   "nbconvert_exporter": "python",
   "pygments_lexer": "ipython2",
   "version": "2.7.13"
  }
 },
 "nbformat": 4,
 "nbformat_minor": 2
}
